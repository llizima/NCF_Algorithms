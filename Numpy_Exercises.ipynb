{
  "nbformat": 4,
  "nbformat_minor": 0,
  "metadata": {
    "colab": {
      "provenance": [],
      "include_colab_link": true
    },
    "kernelspec": {
      "name": "python3",
      "display_name": "Python 3"
    },
    "language_info": {
      "name": "python"
    }
  },
  "cells": [
    {
      "cell_type": "markdown",
      "metadata": {
        "id": "view-in-github",
        "colab_type": "text"
      },
      "source": [
        "<a href=\"https://colab.research.google.com/github/llizima/NCF_Algorithms/blob/main/Numpy_Exercises.ipynb\" target=\"_parent\"><img src=\"https://colab.research.google.com/assets/colab-badge.svg\" alt=\"Open In Colab\"/></a>"
      ]
    },
    {
      "cell_type": "markdown",
      "source": [
        "**Understanding Data Types in Python**"
      ],
      "metadata": {
        "id": "w5G0RH-AZwUR"
      }
    },
    {
      "cell_type": "markdown",
      "source": [
        "Exercise 1\n",
        "\n",
        "Problem:\n",
        "\n",
        "Explain the difference between a Python list and a NumPy array in terms of data types and performance."
      ],
      "metadata": {
        "id": "m3Ec3dOwZpl4"
      }
    },
    {
      "cell_type": "markdown",
      "source": [
        "#solution goes here"
      ],
      "metadata": {
        "id": "igiL4cjZZufB"
      }
    },
    {
      "cell_type": "code",
      "source": [],
      "metadata": {
        "id": "lG2GGg7GZvMI"
      },
      "execution_count": null,
      "outputs": []
    },
    {
      "cell_type": "markdown",
      "source": [
        "Exercise 2\n",
        "\n",
        "Problem:\n",
        "\n",
        "Given the list L = [1, 2, 3, 4, 5], convert it to a NumPy array of type float."
      ],
      "metadata": {
        "id": "kdcf2Ll1Zvhc"
      }
    },
    {
      "cell_type": "code",
      "source": [
        "#solution goes here\n",
        "\n",
        "import numpy as np\n",
        "L = [1, 2, 3, 4, 5]\n",
        "\n",
        "np.array(L, dtype = float)"
      ],
      "metadata": {
        "id": "elxFIHzGZ6ga",
        "colab": {
          "base_uri": "https://localhost:8080/"
        },
        "outputId": "25de7e21-826e-4e39-c985-46316e2db4c5"
      },
      "execution_count": null,
      "outputs": [
        {
          "output_type": "execute_result",
          "data": {
            "text/plain": [
              "array([1., 2., 3., 4., 5.])"
            ]
          },
          "metadata": {},
          "execution_count": 4
        }
      ]
    },
    {
      "cell_type": "markdown",
      "source": [
        "Exercise 3\n",
        "\n",
        "Problem:\n",
        "\n",
        "Create a NumPy array of size 10 filled with zeros, ensuring the data type is integer."
      ],
      "metadata": {
        "id": "I4fNtb_pZ7Cz"
      }
    },
    {
      "cell_type": "code",
      "source": [
        "#solution goes here\n"
      ],
      "metadata": {
        "id": "5XJ5Oi9paBVF",
        "colab": {
          "base_uri": "https://localhost:8080/"
        },
        "outputId": "7f307307-d446-4e28-baaf-def6190d7c09"
      },
      "execution_count": null,
      "outputs": [
        {
          "output_type": "execute_result",
          "data": {
            "text/plain": [
              "array([-10])"
            ]
          },
          "metadata": {},
          "execution_count": 8
        }
      ]
    },
    {
      "cell_type": "markdown",
      "source": [
        "**The Basics of NumPy Arrays**"
      ],
      "metadata": {
        "id": "_HGC_LvBaDdG"
      }
    },
    {
      "cell_type": "markdown",
      "source": [
        "Exercise 1\n",
        "\n",
        "Problem:\n",
        "\n",
        "Create a 3×3 NumPy array with values ranging from 0 to 8.\n",
        "\n",
        "Exercise 2\n",
        "\n",
        "Problem:\n",
        "\n",
        "Given the array a = np.array([1, 2, 3, 4, 5]), access the third element and change its value to 10.\n",
        "\n",
        "Exercise 3\n",
        "\n",
        "Problem:\n",
        "\n",
        "Create a 2D NumPy array of shape (2, 5) with random integers between 0 and 10."
      ],
      "metadata": {
        "id": "xvVpi_9baDur"
      }
    },
    {
      "cell_type": "code",
      "source": [
        "#solutions go here\n",
        "import numpy as np\n",
        "temp = np.arange(9).reshape(3, 3)\n",
        "print(temp)"
      ],
      "metadata": {
        "id": "5px4UjfLbIkQ",
        "colab": {
          "base_uri": "https://localhost:8080/"
        },
        "outputId": "88aebc6c-5125-47bd-9e7d-3edd9c2300d1"
      },
      "execution_count": null,
      "outputs": [
        {
          "output_type": "stream",
          "name": "stdout",
          "text": [
            "[[0 1 2]\n",
            " [3 4 5]\n",
            " [6 7 8]]\n"
          ]
        }
      ]
    },
    {
      "cell_type": "code",
      "source": [
        "np.arange(5)/np.arange(1, 6)\n"
      ],
      "metadata": {
        "colab": {
          "base_uri": "https://localhost:8080/"
        },
        "id": "f80jVOz06BQK",
        "outputId": "acd5c440-8813-40ee-c3e0-97d916eab499"
      },
      "execution_count": null,
      "outputs": [
        {
          "output_type": "execute_result",
          "data": {
            "text/plain": [
              "array([0.        , 0.5       , 0.66666667, 0.75      , 0.8       ])"
            ]
          },
          "metadata": {},
          "execution_count": 10
        }
      ]
    },
    {
      "cell_type": "code",
      "source": [
        "x = np.arange(9).reshape((3, 3))\n",
        "x"
      ],
      "metadata": {
        "colab": {
          "base_uri": "https://localhost:8080/"
        },
        "id": "t0DM1Soj7LQM",
        "outputId": "154753bd-5f25-4042-e254-85173881a78b"
      },
      "execution_count": null,
      "outputs": [
        {
          "output_type": "execute_result",
          "data": {
            "text/plain": [
              "array([[0, 1, 2],\n",
              "       [3, 4, 5],\n",
              "       [6, 7, 8]])"
            ]
          },
          "metadata": {},
          "execution_count": 11
        }
      ]
    },
    {
      "cell_type": "code",
      "source": [
        "x = np.arange(4)\n",
        "x\n"
      ],
      "metadata": {
        "colab": {
          "base_uri": "https://localhost:8080/"
        },
        "id": "y8CeVNuA7XTV",
        "outputId": "3bdb1b7d-6f9e-4983-b073-8040949869fe"
      },
      "execution_count": null,
      "outputs": [
        {
          "output_type": "execute_result",
          "data": {
            "text/plain": [
              "array([0, 1, 2, 3])"
            ]
          },
          "metadata": {},
          "execution_count": 14
        }
      ]
    },
    {
      "cell_type": "code",
      "source": [
        "print(\"x     =\", x)\n",
        "print(\"x + 5 =\", x + 5)\n",
        "print(\"x - 5 =\", x - 5)\n",
        "print(\"x * 2 =\", x * 2)\n",
        "print(\"x / 2 =\", x / 2)\n",
        "print(\"x // 2 =\", x // 2)"
      ],
      "metadata": {
        "colab": {
          "base_uri": "https://localhost:8080/"
        },
        "id": "ldLQA7qV76xI",
        "outputId": "8192be07-43f3-4097-e9a5-c36a4a5946b8"
      },
      "execution_count": null,
      "outputs": [
        {
          "output_type": "stream",
          "name": "stdout",
          "text": [
            "x     = [0 1 2 3]\n",
            "x + 5 = [5 6 7 8]\n",
            "x - 5 = [-5 -4 -3 -2]\n",
            "x * 2 = [0 2 4 6]\n",
            "x / 2 = [0.  0.5 1.  1.5]\n",
            "x // 2 = [0 0 1 1]\n"
          ]
        }
      ]
    },
    {
      "cell_type": "code",
      "source": [
        "theta = np.linspace(0, np.pi, 10)"
      ],
      "metadata": {
        "id": "9KeGStkL8gXe"
      },
      "execution_count": null,
      "outputs": []
    },
    {
      "cell_type": "code",
      "source": [
        "theta"
      ],
      "metadata": {
        "colab": {
          "base_uri": "https://localhost:8080/"
        },
        "id": "RM2I23qX8h1Q",
        "outputId": "a6b11b76-3f24-4e6a-d179-df6561c571a1"
      },
      "execution_count": null,
      "outputs": [
        {
          "output_type": "execute_result",
          "data": {
            "text/plain": [
              "array([0.        , 0.34906585, 0.6981317 , 1.04719755, 1.3962634 ,\n",
              "       1.74532925, 2.0943951 , 2.44346095, 2.7925268 , 3.14159265])"
            ]
          },
          "metadata": {},
          "execution_count": 19
        }
      ]
    },
    {
      "cell_type": "markdown",
      "source": [
        "**Computation on NumPy Arrays: Universal Functions**"
      ],
      "metadata": {
        "id": "PpESD9olaDx7"
      }
    },
    {
      "cell_type": "markdown",
      "source": [
        "Exercise 1\n",
        "\n",
        "Problem:\n",
        "\n",
        "Given two arrays x = np.array([1, 2, 3, 4]) and y = np.array([5, 6, 7, 8]), compute the element-wise sum and product.\n",
        "\n",
        "Exercise 2\n",
        "\n",
        "Problem:\n",
        "\n",
        "Apply the exponential function to the array x = np.array([1, 2, 3, 4]).\n",
        "\n",
        "Exercise 3\n",
        "\n",
        "Problem:\n",
        "\n",
        "Compute the sine of x = np.array([1, 2, 3, 4]) and cosine of y = np.array([5, 6, 7, 8]), then find the sum of their squares."
      ],
      "metadata": {
        "id": "AXqKSFBjaD1w"
      }
    },
    {
      "cell_type": "code",
      "source": [
        "#solutions go here\n",
        "import numpy as np\n",
        "\n",
        "x = np.array([1, 2, 3, 4])\n",
        "y = np.array([5, 6, 7, 8])\n",
        "\n",
        "sum_array = x + y\n",
        "product_array = x * y\n",
        "\n",
        "print(\"Sum:\", sum_array)\n",
        "print(\"Product:\", product_array)\n"
      ],
      "metadata": {
        "id": "twBGKHrdbZz5",
        "colab": {
          "base_uri": "https://localhost:8080/"
        },
        "outputId": "cfb1c588-399f-46fd-b1a5-d0f53e7272a3"
      },
      "execution_count": null,
      "outputs": [
        {
          "output_type": "stream",
          "name": "stdout",
          "text": [
            "Sum: [ 6  8 10 12]\n",
            "Product: [ 5 12 21 32]\n"
          ]
        }
      ]
    },
    {
      "cell_type": "code",
      "source": [],
      "metadata": {
        "id": "PpPX4zZAK1Zk"
      },
      "execution_count": null,
      "outputs": []
    },
    {
      "cell_type": "code",
      "source": [
        "x = np.array([1, 2, 3, 4])\n",
        "exp_array = np.exp(x)\n",
        "print(exp_array)\n"
      ],
      "metadata": {
        "colab": {
          "base_uri": "https://localhost:8080/"
        },
        "id": "5FAVpA4Q9hXs",
        "outputId": "f659a6dc-f1cf-45a6-808d-efa97a5cc6b9"
      },
      "execution_count": null,
      "outputs": [
        {
          "output_type": "stream",
          "name": "stdout",
          "text": [
            "[ 2.71828183  7.3890561  20.08553692 54.59815003]\n"
          ]
        }
      ]
    },
    {
      "cell_type": "code",
      "source": [
        "x = np.array([1, 2, 3, 4])\n",
        "y = np.array([5, 6, 7, 8])\n",
        "\n",
        "sin_x = np.sin(x)\n",
        "cos_y = np.cos(y)\n",
        "sum_squares = sin_x**2 + cos_y**2\n",
        "\n",
        "print(\"Sum of squares:\", sum_squares)"
      ],
      "metadata": {
        "colab": {
          "base_uri": "https://localhost:8080/"
        },
        "id": "B2vKv-_79l7r",
        "outputId": "d7be2561-cd8a-458d-b52b-126f26a1bf97"
      },
      "execution_count": null,
      "outputs": [
        {
          "output_type": "stream",
          "name": "stdout",
          "text": [
            "Sum of squares: [0.78853765 1.74874879 0.58828347 0.59392028]\n"
          ]
        }
      ]
    },
    {
      "cell_type": "markdown",
      "source": [
        "**Aggregations: Min, Max, and Everything In Between**"
      ],
      "metadata": {
        "id": "M8PTFC8TaD5i"
      }
    },
    {
      "cell_type": "markdown",
      "source": [
        "Exercise 1\n",
        "\n",
        "Problem:\n",
        "\n",
        "Given data = np.random.rand(100), compute the mean, median, and standard deviation.\n",
        "\n",
        "Exercise 2\n",
        "\n",
        "Problem:\n",
        "\n",
        "Create a 5×5 matrix with random integers from 1 to 100. Find the maximum and minimum values along the rows and columns.\n",
        "\n",
        "Exercise 3\n",
        "\n",
        "Problem:\n",
        "\n",
        "Given data = np.arange(1, 11), compute the cumulative sum and cumulative product."
      ],
      "metadata": {
        "id": "cHO6HHaFbfpC"
      }
    },
    {
      "cell_type": "code",
      "source": [
        "#solution goes here"
      ],
      "metadata": {
        "id": "gXJKyTx1bmnm"
      },
      "execution_count": null,
      "outputs": []
    },
    {
      "cell_type": "markdown",
      "source": [
        "**Computation on Arrays: Broadcasting**"
      ],
      "metadata": {
        "id": "JHZgXbqsbpVx"
      }
    },
    {
      "cell_type": "markdown",
      "source": [
        "Exercise 1\n",
        "\n",
        "Problem:\n",
        "\n",
        "Add the vector v = np.array([1, 2, 3]) to each row of the 3×3 matrix:\n",
        "\n",
        "python\n",
        "Copy code\n",
        "matrix = np.array([[1, 2, 3],\n",
        "                   [4, 5, 6],\n",
        "                   [7, 8, 9]])\n",
        "Exercise 2\n",
        "\n",
        "Problem:\n",
        "\n",
        "Multiply a 4×1 vector by a 1×3 vector to get a 4×3 matrix.\n",
        "\n",
        "Exercise 3\n",
        "\n",
        "Problem:\n",
        "\n",
        "Subtract the mean of each column from the respective column elements in a 3×3 matrix."
      ],
      "metadata": {
        "id": "QRQ71ph5bsnx"
      }
    },
    {
      "cell_type": "code",
      "source": [
        "#solutions go here"
      ],
      "metadata": {
        "id": "dj6re-xPbwZs"
      },
      "execution_count": null,
      "outputs": []
    },
    {
      "cell_type": "markdown",
      "source": [
        "**Comparisons, Masks, and Boolean Logic**"
      ],
      "metadata": {
        "id": "lOawOtuJbzTK"
      }
    },
    {
      "cell_type": "markdown",
      "source": [
        "Exercise 1\n",
        "\n",
        "Problem:\n",
        "\n",
        "Given data = np.random.randint(0, 20, size=15), find all elements greater than 10.\n",
        "\n",
        "Exercise 2\n",
        "\n",
        "Problem:\n",
        "\n",
        "Create an array of numbers from 1 to 20. Replace all even numbers with zero.\n",
        "\n",
        "Exercise 3\n",
        "\n",
        "Problem:\n",
        "\n",
        "Given x = np.array([1, 2, 3, 4, 5]) and y = np.array([5, 4, 3, 2, 1]), find the positions where x is less than y."
      ],
      "metadata": {
        "id": "NqnEOVJ0b8Lp"
      }
    },
    {
      "cell_type": "code",
      "source": [
        "#solutions go here"
      ],
      "metadata": {
        "id": "nuhvowNbb_Js"
      },
      "execution_count": null,
      "outputs": []
    },
    {
      "cell_type": "markdown",
      "source": [
        "**Fancy Indexing**"
      ],
      "metadata": {
        "id": "t1m2pElscBoq"
      }
    },
    {
      "cell_type": "markdown",
      "source": [
        "Exercise 1\n",
        "\n",
        "Problem:\n",
        "\n",
        "Given x = np.array([10, 20, 30, 40, 50, 60]) and indices = [1, 3, 5], use fancy indexing to extract elements at the given indices.\n",
        "\n",
        "Exercise 2\n",
        "\n",
        "Problem:\n",
        "\n",
        "Given a 4×4 array, select the diagonal elements using fancy indexing.\n",
        "\n",
        "Exercise 3\n",
        "\n",
        "Problem:\n",
        "\n",
        "Given x = np.arange(10), shuffle the array using fancy indexing."
      ],
      "metadata": {
        "id": "MXPVaQaQcEJS"
      }
    },
    {
      "cell_type": "code",
      "source": [
        "#solutions go here"
      ],
      "metadata": {
        "id": "RSLnQpJZcHF3"
      },
      "execution_count": null,
      "outputs": []
    },
    {
      "cell_type": "markdown",
      "source": [
        "**Sorting Arrays**"
      ],
      "metadata": {
        "id": "AHCP5SDAcIoN"
      }
    },
    {
      "cell_type": "markdown",
      "source": [
        "Exercise 1\n",
        "\n",
        "Problem:\n",
        "\n",
        "Sort the array x = np.array([3, 6, 2, 7, 1, 9]) in ascending and descending order.\n",
        "\n",
        "Exercise 2\n",
        "\n",
        "Problem:\n",
        "\n",
        "Given a 2D array array_2d = np.random.randint(0, 10, size=(3, 5)), sort each row.\n",
        "\n",
        "Exercise 3\n",
        "\n",
        "Problem:\n",
        "\n",
        "Given names = np.array(['John', 'Anne', 'Zoe', 'Bob']) and ages = np.array([25, 30, 22, 28]), sort the names array based on the ages array.\n",
        "\n"
      ],
      "metadata": {
        "id": "Yfvb8T3NcUnr"
      }
    },
    {
      "cell_type": "code",
      "source": [
        "#solution goes here"
      ],
      "metadata": {
        "id": "J6HvE2tucXhb"
      },
      "execution_count": null,
      "outputs": []
    },
    {
      "cell_type": "markdown",
      "source": [
        "**Structured Data: NumPy's Structured Arrays**"
      ],
      "metadata": {
        "id": "TuOgNaH1cY-l"
      }
    },
    {
      "cell_type": "markdown",
      "source": [
        "Exercise 1\n",
        "\n",
        "Problem:\n",
        "\n",
        "Create a structured array to store the names and ages of people.\n",
        "\n",
        "Exercise 2\n",
        "\n",
        "Problem:\n",
        "\n",
        "Access the 'age' field of the structured array created above.\n",
        "\n",
        "Exercise 3\n",
        "\n",
        "Problem:\n",
        "\n",
        "Given the structured array:\n",
        "\n",
        "python\n",
        "Copy code\n",
        "students = np.array([('Alice', 25, 85.5), ('Bob', 30, 92.3), ('Cathy', 28, 78.9)],\n",
        "                    dtype=[('name', 'U10'), ('age', 'i4'), ('score', 'f4')])\n",
        "Find the average score."
      ],
      "metadata": {
        "id": "_n2HapGecc09"
      }
    },
    {
      "cell_type": "code",
      "source": [
        "#solutions go here"
      ],
      "metadata": {
        "id": "Ev6v2eu2ch_e"
      },
      "execution_count": null,
      "outputs": []
    },
    {
      "cell_type": "code",
      "source": [
        "import numpy as np\n"
      ],
      "metadata": {
        "id": "gLqahaHky4tm"
      },
      "execution_count": null,
      "outputs": []
    },
    {
      "cell_type": "code",
      "source": [
        "np.array([3.14, 4, 2, 3])"
      ],
      "metadata": {
        "colab": {
          "base_uri": "https://localhost:8080/"
        },
        "id": "kvlqTdHPyw-w",
        "outputId": "e67793b4-5822-4133-a768-02ecdcdaf0b7"
      },
      "execution_count": null,
      "outputs": [
        {
          "output_type": "execute_result",
          "data": {
            "text/plain": [
              "array([3.14, 4.  , 2.  , 3.  ])"
            ]
          },
          "metadata": {},
          "execution_count": 10
        }
      ]
    },
    {
      "cell_type": "code",
      "source": [
        "import numpy as np\n",
        "\n",
        "nums = [3,2,4]\n",
        "target = 6\n",
        "\n",
        "vec_targ = np.full((len(nums)),target)\n",
        "ntarget = vec_targ - nums\n",
        "print(ntarget)\n",
        "def twoSum(nums, target):\n",
        "  vec_targ = np.full((len(nums)),target)\n",
        "  ntarget = vec_targ = np.full((len(nums)),target) - nums\n"
      ],
      "metadata": {
        "colab": {
          "base_uri": "https://localhost:8080/"
        },
        "id": "FXuyHn3aK5Rx",
        "outputId": "b75d0b56-0bdf-439a-a841-ff60810551c8"
      },
      "execution_count": 2,
      "outputs": [
        {
          "output_type": "stream",
          "name": "stdout",
          "text": [
            "[3 4 2]\n"
          ]
        }
      ]
    }
  ]
}